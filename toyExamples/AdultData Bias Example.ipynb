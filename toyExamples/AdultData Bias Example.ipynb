{
 "cells": [
  {
   "cell_type": "markdown",
   "metadata": {},
   "source": [
    "# Bias in OLAP Queries: Detection, Explanation, and Removal;\n",
    "\n",
    "## Summary and Toy Example\n",
    "\n",
    "### Preliminaries: \n",
    "$D$: Some Database\n",
    "\n",
    "$T$: Treatment; the original query variable. More specifically we assign a control, $T=t_0$, and treatment $T=t_1$ subpopulations. \n",
    "\n",
    "$Y$: The output. We are usually interested in the average of $Y$ on the two subgroups\n",
    "\n",
    "$Z$: Set of covariates\n",
    "\n",
    "$M$: Set of mediators\n",
    "\n",
    "$\\Gamma_i$ (or $C$): Set of conditions \n",
    "\n",
    "\n",
    "At first glance, when we intend to run a group by query to see aggregation on some output, $Y$, of certain treatments, $T$ with condition, $C$ we perform the following SQL operation:\n",
    "\n",
    "$\\texttt{SELECT avg(Y) FROM D WHERE C GROUP BY T}$\n",
    "\n",
    "\n",
    "Which translates to  $E[Y|T, C]$ for $T = {t_0 , t_1}$\n",
    "\n",
    "But this query is likely to be biased.\n",
    "\n",
    "### Setup:\n",
    "\n",
    "Let's take a look at the Adult data used in the HypDB paper:"
   ]
  },
  {
   "cell_type": "code",
   "execution_count": 1,
   "metadata": {},
   "outputs": [
    {
     "name": "stdout",
     "output_type": "stream",
     "text": [
      "Information from adult table:\n",
      "\n",
      "Schema:\n",
      "CREATE TABLE \"adult\" (\n",
      "\"age\" TEXT,\n",
      "  \"workclass\" TEXT,\n",
      "  \"education\" TEXT,\n",
      "  \"educationnum\" INTEGER,\n",
      "  \"maritalstatus\" TEXT,\n",
      "  \"occupation\" TEXT,\n",
      "  \"relationship\" TEXT,\n",
      "  \"race\" TEXT,\n",
      "  \"sex\" TEXT,\n",
      "  \"capitalgain\" TEXT,\n",
      "  \"capitalloss\" TEXT,\n",
      "  \"hoursperweek\" TEXT,\n",
      "  \"nativecountry\" TEXT,\n",
      "  \"income\" INTEGER\n",
      ")\n",
      "\n",
      "Obseravtions: 32561\n"
     ]
    }
   ],
   "source": [
    "import sqlite3\n",
    "from sqlite3 import Error\n",
    "import numpy as np\n",
    "import matplotlib.pyplot as plt\n",
    "import pandas as pd\n",
    "from matplotlib.pyplot import figure\n",
    "import matplotlib.image as mpimg\n",
    "\n",
    "#data from: https://github.com/CoreyCole/HypDB/blob/master/demo/server/resources/data/binadult.csv\n",
    "#csv file provided in folder\n",
    "\n",
    "#create and connect to adult.db database and import csv file into adult table\n",
    "conn = sqlite3.connect('adult.db')\n",
    "df = pd.read_csv('binadult.csv')\n",
    "df.to_sql('adult', conn, if_exists='replace', index=False)\n",
    "cur = conn.cursor()\n",
    "\n",
    "\n",
    "print(\"Information from adult table:\\n\\nSchema:\")\n",
    "query = \"\"\"SELECT sql FROM sqlite_master WHERE name='adult';\"\"\"\n",
    "cur.execute(query)\n",
    "rows = cur.fetchall()\n",
    "print(rows[0][0])\n",
    "\n",
    "query = \"\"\"SELECT count(*) FROM adult;\"\"\"\n",
    "cur.execute(query)\n",
    "rows = cur.fetchall()\n",
    "print(\"\\nObseravtions: \" + str(rows[0][0]))\n"
   ]
  },
  {
   "cell_type": "code",
   "execution_count": 2,
   "metadata": {},
   "outputs": [
    {
     "name": "stdout",
     "output_type": "stream",
     "text": [
      "Apparent Bias?\n"
     ]
    },
    {
     "data": {
      "image/png": "[encoded data removed]",
      "text/plain": [
       "<Figure size 432x288 with 1 Axes>"
      ]
     },
     "metadata": {
      "needs_background": "light"
     },
     "output_type": "display_data"
    }
   ],
   "source": [
    "query =  \"\"\"SELECT sex, avg(income) \n",
    "            FROM adult \n",
    "            GROUP BY sex;\"\"\"\n",
    "cur.execute(query)\n",
    "rows = cur.fetchall()\n",
    "    \n",
    "gender = []\n",
    "income = []\n",
    "for row in rows:\n",
    "    gender.append(row[0])\n",
    "    income.append(row[1])\n",
    "    \n",
    "genderVsIncome = (gender, income)\n",
    "\n",
    "plt.bar(*genderVsIncome);\n",
    "plt.ylabel('Income');\n",
    "plt.xlabel('Gender');\n",
    "plt.title(\"Gender Vs. Income\");\n",
    "print(\"Apparent Bias?\")\n"
   ]
  },
  {
   "cell_type": "markdown",
   "metadata": {},
   "source": [
    "### Detection\n",
    "\n",
    "\n",
    "To detect whether a query is biased with respect to V, we must first check [conditional mutual information](https://en.wikipedia.org/wiki/Conditional_mutual_information), $I(T;V|\\Gamma_i)$. \n",
    "\n",
    "[Mutual Information](http://www.scholarpedia.org/article/Mutual_information)is a measure of the mutual dependence between two variables (how much information is obtained by observing the other variable). Mututal information is non-negative, symmetric, and is often measured in bits. \n",
    "\n",
    "As an example,the paper gives an example where average delay of airports is querried against two airlines (United Airlines and American Airlines). It was found that the estimated conditional mutual information is   $I(Carrier;Airport|\\Gamma_i)=.25$. Using a test on the null hypothesis test $I(T;V|\\Gamma_i)=0$, they found p-value$<.001$, and therefore they rejected the null hypothesis and they conclude the base query is biased.\n",
    "\n",
    "### Explanation\n",
    "\n",
    "HypDB outputs two explaining views based on the attributes ZZ(Z∪M):\n",
    "\n",
    "#### Coarse Grained: \n",
    "HypeDB calculates and lists in descending order each attributes by thier degree of responsibility:\n",
    "\n",
    "![alt text](degOfResp.png \"Title\")\n",
    "\n",
    "The degree of responsibility is a number between 0 and 1, and measures the contribution of a single attribute to the inequality $I(T;V|\\Gamma_i)>0$.\n",
    "\n",
    "\n",
    "#### Fine-Grained:\n",
    "This view is based on the degree of contribution to I(X;Y) > 0 as:\n",
    "\n",
    "![alt text](degOfCond.png \"Title\")\n",
    "\n",
    "which can be any real number. HypeDB ranks tuples $(t,y,z) \\in D$ based on their contribution to $I(T;Z)$ and $I(Y;Z)$ and combines them using a specific aggregation method and ranking the top contributors:\n",
    "\n",
    "So for our adult example:\n",
    "\n",
    "![alt text](biasQuery.png \"Title\")"
   ]
  },
  {
   "cell_type": "code",
   "execution_count": 3,
   "metadata": {},
   "outputs": [
    {
     "data": {
      "image/png": "[encoded data removed]",
      "text/plain": [
       "<Figure size 432x288 with 1 Axes>"
      ]
     },
     "metadata": {
      "needs_background": "light"
     },
     "output_type": "display_data"
    }
   ],
   "source": [
    "query =  \"\"\"SELECT sex, maritalstatus, avg(income) \n",
    "            FROM adult \n",
    "            GROUP BY sex, maritalstatus;\"\"\"\n",
    "cur.execute(query)\n",
    "rows = cur.fetchall()\n",
    "\n",
    "fMs = []\n",
    "fIncome = []\n",
    "mMs = []\n",
    "mIncome = []\n",
    "maritalstatus = []\n",
    "for row in rows:\n",
    "    if row[0]==' Female':\n",
    "        fIncome.append(row[2])\n",
    "        maritalstatus.append(row[1])\n",
    "    else:\n",
    "        mIncome.append(row[2])\n",
    "\n",
    "x = np.arange(len(maritalstatus)) \n",
    "width = 0.35\n",
    "\n",
    "fig, ax = plt.subplots()\n",
    "rects1 = ax.bar(x - width/2, mIncome, width, label='Male')\n",
    "rects2 = ax.bar(x + width/2, fIncome, width, label='Female')\n",
    "\n",
    "ax.set_ylabel('Income')\n",
    "ax.set_xlabel('Marital Status');\n",
    "ax.set_title('Income by marital status and gender')\n",
    "ax.set_xticks(x)\n",
    "ax.set_xticklabels(maritalstatus)\n",
    "ax.legend()\n",
    "plt.xticks(rotation=45, ha='right');\n",
    "\n",
    "\n",
    "fig.tight_layout()\n",
    "plt.show()"
   ]
  },
  {
   "cell_type": "code",
   "execution_count": 4,
   "metadata": {},
   "outputs": [
    {
     "data": {
      "image/png": "[encoded data removed]",
      "text/plain": [
       "<Figure size 432x288 with 1 Axes>"
      ]
     },
     "metadata": {
      "needs_background": "light"
     },
     "output_type": "display_data"
    }
   ],
   "source": [
    "query =  \"\"\"SELECT sex, maritalstatus, COUNT(*) \n",
    "            FROM adult \n",
    "            GROUP BY sex, maritalstatus;\"\"\"\n",
    "cur.execute(query)\n",
    "rows = cur.fetchall()\n",
    "\n",
    "fN = []\n",
    "mN = []\n",
    "for row in rows:\n",
    "    if row[0]==' Female':\n",
    "        fN.append(row[2])\n",
    "    else:\n",
    "        mN.append(row[2])\n",
    "\n",
    "x = np.arange(len(maritalstatus)) \n",
    "width = 0.35\n",
    "\n",
    "fig, ax = plt.subplots()\n",
    "rects1 = ax.bar(x - width/2, mN, width, label='Male')\n",
    "rects2 = ax.bar(x + width/2, fN, width, label='Female')\n",
    "\n",
    "ax.set_ylabel('Count')\n",
    "ax.set_xlabel('Marital status')\n",
    "ax.set_title('Count By Marital status and Gender')\n",
    "ax.set_xticks(x)\n",
    "ax.set_xticklabels(maritalstatus)\n",
    "ax.legend()\n",
    "plt.xticks(rotation=45, ha='right');\n",
    "\n",
    "fig.tight_layout()\n",
    "plt.show()\n",
    "\n",
    "\n"
   ]
  },
  {
   "cell_type": "markdown",
   "metadata": {},
   "source": [
    "### Resolve:\n",
    "\n",
    "Instead do a wieghted average:\n",
    "\n",
    "![alt text](generalQuery.png \"Title\")\n",
    "\n",
    "Blocks: $E(Y|T,Z,X)$\n",
    "\n",
    "Wieghts: $Pr(Z,X)$\n",
    "\n",
    "Aggregating: $E(Y|T,X) = \\Sigma_Z E(Y|T,Z,X)Pr(Z,X)$\n"
   ]
  },
  {
   "cell_type": "code",
   "execution_count": 5,
   "metadata": {},
   "outputs": [
    {
     "data": {
      "image/png": "[encoded data removed]",
      "text/plain": [
       "<Figure size 432x288 with 1 Axes>"
      ]
     },
     "metadata": {
      "needs_background": "light"
     },
     "output_type": "display_data"
    }
   ],
   "source": [
    "query = \"\"\"\n",
    "WITH Blocks AS (\n",
    "    SELECT sex, maritalstatus, avg(income) AS Avge\n",
    "    FROM adult\n",
    "    GROUP BY sex, maritalstatus),\n",
    "Weights AS (\n",
    "    SELECT maritalstatus, CAST(count(*) AS float)/(SELECT count(*) FROM adult) AS W\n",
    "    FROM adult\n",
    "    GROUP BY maritalstatus\n",
    "    HAVING count(DISTINCT sex)=2)\n",
    "SELECT sex, sum(Avge*W)\n",
    "FROM Blocks, Weights\n",
    "WHERE Blocks.maritalstatus = Weights.maritalstatus\n",
    "GROUP BY sex\"\"\"\n",
    "cur.execute(query)\n",
    "rows = cur.fetchall()\n",
    "rows\n",
    "\n",
    "gender = []\n",
    "income = []\n",
    "for row in rows:\n",
    "    gender.append(row[0])\n",
    "    income.append(row[1])\n",
    "    \n",
    "genderVsIncome = (gender, income)\n",
    "\n",
    "plt.bar(*genderVsIncome);\n",
    "plt.ylabel('Income');\n",
    "plt.xlabel('Gender');\n",
    "plt.title(\"Gender Vs. Income\");"
   ]
  },
  {
   "cell_type": "code",
   "execution_count": 6,
   "metadata": {},
   "outputs": [],
   "source": [
    "conn.close()"
   ]
  }
 ],
 "metadata": {
  "kernelspec": {
   "display_name": "Python 3",
   "language": "python",
   "name": "python3"
  },
  "language_info": {
   "codemirror_mode": {
    "name": "ipython",
    "version": 3
   },
   "file_extension": ".py",
   "mimetype": "text/x-python",
   "name": "python",
   "nbconvert_exporter": "python",
   "pygments_lexer": "ipython3",
   "version": "3.6.8"
  }
 },
 "nbformat": 4,
 "nbformat_minor": 2
}
