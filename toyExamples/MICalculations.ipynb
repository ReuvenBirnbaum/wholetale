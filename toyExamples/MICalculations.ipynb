{
 "cells": [
  {
   "cell_type": "code",
   "execution_count": 2,
   "metadata": {},
   "outputs": [],
   "source": [
    "import scipy.stats\n",
    "import numpy as np\n",
    "import matplotlib.pyplot as plt"
   ]
  },
  {
   "cell_type": "markdown",
   "metadata": {},
   "source": [
    "## Bivariate Guasian\n"
   ]
  },
  {
   "cell_type": "code",
   "execution_count": null,
   "metadata": {},
   "outputs": [],
   "source": [
    "n=10000\n",
    "means = [20, 30]\n",
    "rho = .5\n",
    "sigma_x = 2\n",
    "sigma_y = 3\n",
    "fw = 50\n",
    "covs = [[sigma_x**2,sigma_x*sigma_y*rho],[sigma_x*sigma_y*rho, sigma_y**2]]\n",
    "g_xy = scipy.stats.multivariate_normal.rvs(mean=means, cov=covs, size=n, random_state=123)\n",
    "g_xy = g_xy.round().astype(int)\n",
    "p_xy = np.zeros((fw,fw))\n",
    "for x,y in g_xy:\n",
    "    p_xy[x,y] +=1/n\n",
    "\n",
    "pw = slice(10,40) \n",
    "pw = slice(10,40)    \n",
    "plt.imshow(p_xy[pw,pw], cmap='gray')\n",
    "plt.xlabel('Y Values')\n",
    "plt.ylabel('X Values')\n",
    "plt.title('Joint Distribution')\n",
    "plt.colorbar()\n",
    "plt.show()\n",
    "\n",
    "sum(sum(p_xy==0))\n"
   ]
  },
  {
   "cell_type": "code",
   "execution_count": null,
   "metadata": {},
   "outputs": [],
   "source": [
    "t= list(range(p_xy.shape[0]))\n",
    "p_y  = p_xy.sum(0)\n",
    "p_x  = p_xy.sum(1)\n",
    "plt.plot(t,p_x,'r',label='p(x)')\n",
    "plt.plot(t,p_y,'b',label='p(y)')\n",
    "plt.legend(loc=\"upper right\")\n",
    "plt.xlabel('Values')\n",
    "plt.ylabel('Probability')\n",
    "plt.title('Marginal Distribution')\n",
    "plt.show()\n"
   ]
  },
  {
   "cell_type": "code",
   "execution_count": null,
   "metadata": {},
   "outputs": [],
   "source": [
    "p_xp_y = p_x[:,None].dot(p_y[None,:])\n",
    "plt.imshow(p_xp_y, cmap='gray')\n",
    "plt.xlabel('Y Values')\n",
    "plt.ylabel('X Values')\n",
    "plt.title('p(x)*p(y)')\n",
    "plt.colorbar()\n",
    "plt.show()"
   ]
  },
  {
   "cell_type": "code",
   "execution_count": null,
   "metadata": {},
   "outputs": [],
   "source": [
    "I = 0\n",
    "errorsNumer = []\n",
    "for x in range(20):\n",
    "    for y in range(20):\n",
    "        if (p_x[x]==0 or p_y[y]==0 or p_xy[x,y] ==0):\n",
    "            errorsNumer.append([p_x[x],p_y[y],p_xy[x,y]])\n",
    "        else:\n",
    "            I+=p_xy[x,y]*np.log2(p_xy[x,y]/(p_x[x]*p_y[y]))\n",
    "I\n"
   ]
  },
  {
   "cell_type": "markdown",
   "metadata": {},
   "source": [
    "## Simple But Complicated\n"
   ]
  },
  {
   "cell_type": "code",
   "execution_count": 10,
   "metadata": {},
   "outputs": [
    {
     "name": "stdout",
     "output_type": "stream",
     "text": [
      "\n",
      "First 5 obs of our table::\n",
      "[[1 0 1]\n",
      " [0 0 0]\n",
      " [0 1 0]\n",
      " [1 1 1]\n",
      " [1 1 0]]\n",
      "pmf_TXZ:\n",
      "[[[0.1808 0.0656]\n",
      "  [0.1934 0.0584]]\n",
      "\n",
      " [[0.0738 0.1786]\n",
      "  [0.0728 0.1766]]]\n",
      "\n",
      "pmf_XZ:\n",
      "[[0.2546 0.2442]\n",
      " [0.2662 0.235 ]]\n",
      "\n",
      "pmf_T:\n",
      "[0.4982 0.5018]\n",
      "\n",
      "I:\n"
     ]
    },
    {
     "data": {
      "text/plain": [
       "0.158"
      ]
     },
     "execution_count": 10,
     "metadata": {},
     "output_type": "execute_result"
    }
   ],
   "source": [
    "p_T=.5\n",
    "p_X=.5\n",
    "p_t0 = .25\n",
    "p_t1 = .7\n",
    "n=5000\n",
    "data_TXZ = np.zeros([n,3]).astype(int)\n",
    "\n",
    "np.random.seed(seed=123)\n",
    "data_TXZ[:,0] = scipy.stats.bernoulli.rvs(p_T, size=n)\n",
    "\n",
    "np.random.seed(seed=456)\n",
    "data_TXZ[:,1] = scipy.stats.bernoulli.rvs(p_X, size=n)\n",
    "\n",
    "Z=[]\n",
    "for index in range(n):\n",
    "    t = data_TXZ[index,0]\n",
    "    np.random.seed(seed=index)\n",
    "    data_TXZ[index,2] = scipy.stats.bernoulli.rvs(p_t0*(1-t)+p_t1*t)\n",
    "\n",
    "print('\\nFirst 5 obs of our table::')\n",
    "print(data_TXZ[:5,:])\n",
    "\n",
    "pmf_TXZ = np.zeros([2,2,2])\n",
    "for obs in data_TXZ:\n",
    "    pmf_TXZ[tuple(obs)] += 1/n\n",
    "\n",
    "print('pmf_TXZ:')\n",
    "print(pmf_TXZ)\n",
    "\n",
    "pmf_XZ = np.sum(pmf_TXZ,0)\n",
    "print('\\npmf_XZ:')\n",
    "print(pmf_XZ)\n",
    "\n",
    "pmf_T = np.sum(np.sum(pmf_TXZ,2),1)\n",
    "print('\\npmf_T:')\n",
    "print(pmf_T)\n",
    "\n",
    "I=0\n",
    "for t in range(2):\n",
    "    for x in range(2):\n",
    "        for z in range(2):\n",
    "            I += pmf_TXZ[t,x,z]*np.log2(pmf_TXZ[t,x,z]/(pmf_T[t]*pmf_XZ[x,z]))\n",
    "\n",
    "print('\\nI:')\n",
    "round(I,3)\n",
    "\n",
    "\n",
    "# I(T:XZ)\n",
    "\n"
   ]
  },
  {
   "cell_type": "markdown",
   "metadata": {},
   "source": [
    "We now can see that that the mutual information shared between T and X and Z  is .158, i.e. if you know the states of X and Z you can be sure that you may now about about a \"fifth\" of a bit of T. You may be thinking that this doesn't seem to be that much information, but to truly see if this is a \"nonzero\", we need to do a statistal test:\n",
    "We use a Monte Carlo Simulation to test $H_0: I=0$ "
   ]
  },
  {
   "cell_type": "code",
   "execution_count": 16,
   "metadata": {},
   "outputs": [
    {
     "name": "stdout",
     "output_type": "stream",
     "text": [
      "Maximum from the I trials: 0.0025\n"
     ]
    },
    {
     "data": {
      "image/png": "[encoded data removed]",
      "text/plain": [
       "<Figure size 432x288 with 1 Axes>"
      ]
     },
     "metadata": {
      "needs_background": "light"
     },
     "output_type": "display_data"
    }
   ],
   "source": [
    "T = np.array(data_TXZ[:,0], copy=True)\n",
    "Itrials = []\n",
    "np.random.seed(123)\n",
    "trialsNum = 1000\n",
    "for trial in range(trialsNum):\n",
    "    currI=0\n",
    "    np.random.shuffle(data_TXZ[:,0])\n",
    "    curr_pmf_TXZ = np.zeros([2,2,2])\n",
    "    for obs in data_TXZ:\n",
    "        curr_pmf_TXZ[tuple(obs)] += 1/n\n",
    "    for t in range(2):\n",
    "        for x in range(2):\n",
    "            for z in range(2):\n",
    "                currI += curr_pmf_TXZ[t,x,z]*np.log2(curr_pmf_TXZ[t,x,z]/(pmf_T[t]*pmf_XZ[x,z]))\n",
    "    Itrials.append(currI)\n",
    "    \n",
    "plt.hist(Itrials)\n",
    "print('Maximum from the I trials: %1.4f' % max(Itrials))"
   ]
  },
  {
   "cell_type": "code",
   "execution_count": 34,
   "metadata": {},
   "outputs": [
    {
     "data": {
      "text/plain": [
       "(array([1452.75389826, 1332.02642749,  680.09808534,  305.84292595,\n",
       "         132.80021785,   72.43648246,   20.12124513,   16.0969961 ,\n",
       "           8.04849805,    4.02424903]),\n",
       " array([2.70194843e-06, 2.51195517e-04, 4.99689085e-04, 7.48182653e-04,\n",
       "        9.96676222e-04, 1.24516979e-03, 1.49366336e-03, 1.74215693e-03,\n",
       "        1.99065049e-03, 2.23914406e-03, 2.48763763e-03]),\n",
       " <a list of 10 Patch objects>)"
      ]
     },
     "execution_count": 34,
     "metadata": {},
     "output_type": "execute_result"
    },
    {
     "data": {
      "image/png": "[encoded data removed]",
      "text/plain": [
       "<Figure size 432x288 with 1 Axes>"
      ]
     },
     "metadata": {
      "needs_background": "light"
     },
     "output_type": "display_data"
    }
   ],
   "source": [
    "plt.hist(Itrials, density=True)\n"
   ]
  },
  {
   "cell_type": "markdown",
   "metadata": {},
   "source": [
    "As  we can see, all calculated mututal information from the 1000 permutation tests are less than our original I, thus p-value<.001 so we may reject the null hypothesis.\n",
    "\n",
    "Now our next step is to see which covariate is the most reponsible:"
   ]
  },
  {
   "cell_type": "code",
   "execution_count": 33,
   "metadata": {},
   "outputs": [
    {
     "name": "stdout",
     "output_type": "stream",
     "text": [
      "Deg of Responsibility for Z: 0.9997\n",
      "Deg of Responsibility for X: 0.0003\n"
     ]
    }
   ],
   "source": [
    "data_TXZ[:,0] = Tt\n",
    "pmf_Z = np.sum(np.sum(pmf_TXZ,0),0)\n",
    "pmf_TZ = np.sum(pmf_TXZ,1)\n",
    "\n",
    "\n",
    "\n",
    "I_TXgivenZ = 0\n",
    "for t in range(2):\n",
    "    for x in range(2):\n",
    "        for z in range(2):\n",
    "            I_TXgivenZ += pmf_TXZ[t,x,z]*np.log2(pmf_Z[z]*pmf_TXZ[t,x,z]/(pmf_TZ[t,z]*pmf_XZ[x,z]))\n",
    "            \n",
    "pmf_X = np.sum(pmf_XZ,1)\n",
    "pmf_TX = np.sum(pmf_TXZ,2)\n",
    "\n",
    "            \n",
    "I_TZgivenX = 0\n",
    "for t in range(2):\n",
    "    for x in range(2):\n",
    "        for z in range(2):\n",
    "            I_TZgivenX += pmf_TXZ[t,x,z]*np.log2(pmf_X[x]*pmf_TXZ[t,x,z]/(pmf_TX[t,x]*pmf_XZ[x,z]))\n",
    "\n",
    "norm = 2*I-I_TXgivenZ-I_TZgivenX\n",
    "degZ= (I-I_TXgivenZ)/norm\n",
    "degX= (I-I_TZgivenX)/norm\n",
    "print('Deg of Responsibility for Z: %1.4f' % degZ)\n",
    "print('Deg of Responsibility for X: %1.4f' % degX)"
   ]
  },
  {
   "cell_type": "code",
   "execution_count": 22,
   "metadata": {},
   "outputs": [
    {
     "data": {
      "text/plain": [
       "array([[0.2464, 0.2518],\n",
       "       [0.2524, 0.2494]])"
      ]
     },
     "execution_count": 22,
     "metadata": {},
     "output_type": "execute_result"
    }
   ],
   "source": [
    "np.sum(pmf_TXZ,2)\n"
   ]
  },
  {
   "cell_type": "code",
   "execution_count": null,
   "metadata": {},
   "outputs": [],
   "source": []
  },
  {
   "cell_type": "code",
   "execution_count": null,
   "metadata": {},
   "outputs": [],
   "source": []
  }
 ],
 "metadata": {
  "kernelspec": {
   "display_name": "Python 3",
   "language": "python",
   "name": "python3"
  },
  "language_info": {
   "codemirror_mode": {
    "name": "ipython",
    "version": 3
   },
   "file_extension": ".py",
   "mimetype": "text/x-python",
   "name": "python",
   "nbconvert_exporter": "python",
   "pygments_lexer": "ipython3",
   "version": "3.7.6"
  }
 },
 "nbformat": 4,
 "nbformat_minor": 4
}
