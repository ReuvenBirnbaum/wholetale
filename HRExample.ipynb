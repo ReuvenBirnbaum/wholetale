{
 "cells": [
  {
   "cell_type": "code",
   "execution_count": 23,
   "metadata": {},
   "outputs": [],
   "source": [
    "import sqlite3\n",
    "from sqlite3 import Error\n",
    "import numpy as np\n",
    "import matplotlib.pyplot as plt\n",
    "import pandas as pd\n",
    "from matplotlib.pyplot import figure\n",
    "import matplotlib.image as mpimg\n",
    "import math\n",
    "from scipy.stats import t\n",
    "\n",
    "class StdevFunc:\n",
    "    def __init__(self):\n",
    "        self.M = 0.0\n",
    "        self.S = 0.0\n",
    "        self.k = 1\n",
    "\n",
    "    def step(self, value):\n",
    "        if value is None:\n",
    "            return\n",
    "        tM = self.M\n",
    "        self.M += (value - tM) / self.k\n",
    "        self.S += (value - tM) * (value - self.M)\n",
    "        self.k += 1\n",
    "\n",
    "    def finalize(self):\n",
    "        if self.k < 3:\n",
    "            return None\n",
    "        return math.sqrt(self.S / (self.k-2))\n",
    "\n",
    "# Data Downloaded from https://www.kaggle.com/rhuebner/human-resources-data-set/download\n",
    "\n",
    "conn = sqlite3.connect('hr.db')\n",
    "df = pd.read_csv('HRDataset_v13.csv')\n",
    "df.to_sql('hr', conn, if_exists='replace', index=False)\n",
    "conn.create_aggregate(\"stdev\", 1, StdevFunc)\n",
    "cur = conn.cursor()\n"
   ]
  },
  {
   "cell_type": "code",
   "execution_count": 24,
   "metadata": {},
   "outputs": [
    {
     "name": "stdout",
     "output_type": "stream",
     "text": [
      "Only choose one zip code\n",
      "[(None, 91), (1886.0, 13), (1810.0, 7), (2045.0, 7), (2176.0, 7)]\n",
      "No, max 13 obs in one zip code\n"
     ]
    }
   ],
   "source": [
    "print(\"Only choose one zip code\")\n",
    "query =  \"\"\"SELECT Zip, count(*) AS N \n",
    "            FROM hr\n",
    "            GROUP BY Zip\n",
    "            ORDER BY N DESC\n",
    "            LIMIT 5;\"\"\"\n",
    "cur.execute(query)\n",
    "rows = cur.fetchall()\n",
    "print(rows) \n",
    "print('No, max 13 obs in one zip code')"
   ]
  },
  {
   "cell_type": "code",
   "execution_count": 27,
   "metadata": {},
   "outputs": [
    {
     "data": {
      "image/png": "[encoded data removed]",
      "text/plain": [
       "<Figure size 432x288 with 1 Axes>"
      ]
     },
     "metadata": {
      "needs_background": "light"
     },
     "output_type": "display_data"
    }
   ],
   "source": [
    "query =  \"\"\"SELECT Sex, AVG(PayRate), stdev(PayRate), count(*)\n",
    "            FROM hr\n",
    "            GROUP BY Sex;\"\"\"\n",
    "cur.execute(query)\n",
    "rows = cur.fetchall()\n",
    "del rows[0]\n",
    "\n",
    "gender = []\n",
    "income = []\n",
    "for row in rows:\n",
    "    gender.append(row[0])\n",
    "    income.append(row[1])\n",
    "    \n",
    "genderVsIncome = (gender, income)\n",
    "\n",
    "plt.bar(*genderVsIncome);\n",
    "plt.ylabel('Ratio of High Income');\n",
    "plt.xlabel('Gender');\n",
    "plt.title(\"Gender Vs. Ratio of High Income\");"
   ]
  },
  {
   "cell_type": "code",
   "execution_count": 46,
   "metadata": {},
   "outputs": [
    {
     "data": {
      "text/plain": [
       "0.9523212648235388"
      ]
     },
     "execution_count": 46,
     "metadata": {},
     "output_type": "execute_result"
    }
   ],
   "source": [
    "muF  = rows[0][1] \n",
    "muM  = rows[1][1] \n",
    "stdF = rows[0][2] \n",
    "stdM = rows[1][2] \n",
    "NF   = rows[0][3] \n",
    "NM   = rows[1][3] \n",
    "\n",
    "# Consructing p-value using a t-test to test if average pay rate for males equal females\n",
    "testStatistic = (muF-muM)/math.sqrt(stdF**2/NF+stdM**2/NM)\n",
    "degOfFreedom  =  (stdF**2/NF+stdM**2/NM)**2/(((stdF**2/NF)**2)*(NF-1) + ((stdM**2/NM)**2)*(NM-1))\n",
    "p_value = 2*abs(t.cdf(testStatistic, degOfFreedom, loc=0, scale=1))\n",
    "p_value"
   ]
  },
  {
   "cell_type": "markdown",
   "metadata": {},
   "source": [
    "As the p-value is so large (larger than .05/.1...) we fail to reject the null hypotheses so $E(PayRate|Male) = E(PayRate|Female)$ "
   ]
  },
  {
   "cell_type": "code",
   "execution_count": null,
   "metadata": {},
   "outputs": [],
   "source": []
  }
 ],
 "metadata": {
  "kernelspec": {
   "display_name": "Python 3",
   "language": "python",
   "name": "python3"
  },
  "language_info": {
   "codemirror_mode": {
    "name": "ipython",
    "version": 3
   },
   "file_extension": ".py",
   "mimetype": "text/x-python",
   "name": "python",
   "nbconvert_exporter": "python",
   "pygments_lexer": "ipython3",
   "version": "3.6.8"
  }
 },
 "nbformat": 4,
 "nbformat_minor": 2
}
